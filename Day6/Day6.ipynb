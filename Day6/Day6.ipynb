{
 "cells": [
  {
   "cell_type": "markdown",
   "id": "bf0dec3b-cc57-418a-8485-058c91b296f2",
   "metadata": {},
   "source": [
    "## Advent of Code Jour 6\n",
    "\n",
    "https://adventofcode.com/2022/day/6\n",
    "\n",
    "Input : https://adventofcode.com/2022/day/6/input\n"
   ]
  },
  {
   "cell_type": "markdown",
   "id": "56dd1430",
   "metadata": {},
   "source": [
    "Setup"
   ]
  },
  {
   "cell_type": "code",
   "execution_count": 1,
   "id": "b9409baa-12a6-4140-acc6-743890b90e09",
   "metadata": {},
   "outputs": [],
   "source": [
    "inputPath = \"./input.txt\"\n",
    "input = open(inputPath);\n",
    "lines = input.read().splitlines();\n",
    "input.close();"
   ]
  },
  {
   "cell_type": "markdown",
   "id": "06944d09",
   "metadata": {},
   "source": [
    "Code Star 1\n",
    "\n",
    "Notes :\n",
    "\n",
    "- Trouver le marqueur du début, qui est la première séquence de 4 caractères à la suite différents.\n",
    "- Retourner l'index du premier caractère après le marqueur."
   ]
  },
  {
   "cell_type": "code",
   "execution_count": 7,
   "id": "4ab8d881",
   "metadata": {},
   "outputs": [
    {
     "name": "stdout",
     "output_type": "stream",
     "text": [
      "Star 1 Result : 1531\n"
     ]
    }
   ],
   "source": [
    "line = lines[0];\n",
    "code = [];\n",
    "index = -1;\n",
    "\n",
    "for i in range(0,len(line)):\n",
    "    char = line[i];\n",
    "    # print(\"New char : \" + char);\n",
    "    for j in range(0, len(code)):\n",
    "        if code[j] == char:\n",
    "            # print(\"Match, old code : \" + str(code) + \" j = \" + str(j));\n",
    "            code = code[j+1:];\n",
    "            # print(\"New code : \" + str(code));\n",
    "            break;\n",
    "    code.append(char);\n",
    "    if (len(code) == 4):\n",
    "        index = i+1;\n",
    "        break;\n",
    "\n",
    "#Star 1 result = index\n",
    "print(\"Star 1 Result : \" + str(index));"
   ]
  },
  {
   "cell_type": "markdown",
   "id": "796cf71c",
   "metadata": {},
   "source": [
    "Code Star 2\n",
    "\n",
    "Notes :\n",
    "\n",
    "- Pareile que l'étoile 1 mais avec 14 charactères en limite au lieu de 4."
   ]
  },
  {
   "cell_type": "code",
   "execution_count": 8,
   "id": "e559f2da",
   "metadata": {},
   "outputs": [
    {
     "name": "stdout",
     "output_type": "stream",
     "text": [
      "Star 2 result : 2518\n"
     ]
    }
   ],
   "source": [
    "line = lines[0];\n",
    "code = [];\n",
    "index = -1;\n",
    "\n",
    "for i in range(0,len(line)):\n",
    "    char = line[i];\n",
    "    # print(\"New char : \" + char);\n",
    "    for j in range(0, len(code)):\n",
    "        if code[j] == char:\n",
    "            # print(\"Match, old code : \" + str(code) + \" j = \" + str(j));\n",
    "            code = code[j+1:];\n",
    "            # print(\"New code : \" + str(code));\n",
    "            break;\n",
    "    code.append(char);\n",
    "    if (len(code) == 14):\n",
    "        index = i+1;\n",
    "        break;\n",
    "\n",
    "#Star 2 result = index\n",
    "print(\"Star 2 result : \" + str(index));"
   ]
  }
 ],
 "metadata": {
  "kernelspec": {
   "display_name": "Python 3.11.0 64-bit",
   "language": "python",
   "name": "python3"
  },
  "language_info": {
   "codemirror_mode": {
    "name": "ipython",
    "version": 3
   },
   "file_extension": ".py",
   "mimetype": "text/x-python",
   "name": "python",
   "nbconvert_exporter": "python",
   "pygments_lexer": "ipython3",
   "version": "3.11.0"
  },
  "vscode": {
   "interpreter": {
    "hash": "a2548ae63d887cc48655b7b4848b4df8032389d83d471ee40ad8da7d77f28a89"
   }
  }
 },
 "nbformat": 4,
 "nbformat_minor": 5
}
