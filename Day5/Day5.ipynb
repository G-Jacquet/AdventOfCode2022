{
 "cells": [
  {
   "cell_type": "markdown",
   "id": "bf0dec3b-cc57-418a-8485-058c91b296f2",
   "metadata": {},
   "source": [
    "## Advent of Code Jour 5\n",
    "\n",
    "https://adventofcode.com/2022/day/5\n",
    "\n",
    "Input : https://adventofcode.com/2022/day/5/input\n"
   ]
  },
  {
   "cell_type": "markdown",
   "id": "56dd1430",
   "metadata": {},
   "source": [
    "Setup"
   ]
  },
  {
   "cell_type": "code",
   "execution_count": 1,
   "id": "b9409baa-12a6-4140-acc6-743890b90e09",
   "metadata": {},
   "outputs": [],
   "source": [
    "inputPath = \"./input.txt\"\n",
    "input = open(inputPath);\n",
    "lines = input.read().splitlines();\n",
    "input.close();"
   ]
  },
  {
   "cell_type": "markdown",
   "id": "06944d09",
   "metadata": {},
   "source": [
    "Code Star 1\n",
    "\n",
    "Notes :\n",
    "\n",
    "- Colonnes de lettres à récupérer\n",
    "- Liste de commande de déplacement à faire en chaine\n",
    "- Retourner les lettres en haut de chaque colonnes\n",
    "\n",
    "* Lettre noté entre crochet, toutes les colonnes n'ont pas la même taille au début, attention aux nombre de caractère sur chaque ligne\n",
    "* Déplacement noté sous la forme \"move X from Y to Z\", X indique combien on déplace, de la colonne Y vers la Z.\n",
    "* Quand on en déplace plusieurs, on le fait 1 par 1 (donc ça inverse l'ordre des lettres déplacées)"
   ]
  },
  {
   "cell_type": "code",
   "execution_count": 2,
   "id": "4ab8d881",
   "metadata": {},
   "outputs": [
    {
     "name": "stdout",
     "output_type": "stream",
     "text": [
      "Star 1 Result : TGWSMRBPN\n"
     ]
    }
   ],
   "source": [
    "letters = \"\";\n",
    "columns = [];\n",
    "moves = [];\n",
    "\n",
    "def GetColumns ():\n",
    "    nbLine = 0;\n",
    "    for l in lines:\n",
    "        if l[1] == \"1\":\n",
    "            for i in range(1, len(l), 4):\n",
    "                columns.append([]);\n",
    "            break;\n",
    "        else:\n",
    "            nbLine += 1;\n",
    "    \n",
    "    for l in range(nbLine-1, -1, -1):\n",
    "        for i in range(0, len(columns)):\n",
    "            if lines[l][i * 4 + 1] != \" \":\n",
    "                columns[i].append(lines[l][i * 4 + 1]);\n",
    "\n",
    "def DebugColumns ():\n",
    "    for c in range(0, len(columns)):\n",
    "        print (\"col \" + str(c) + \" length : \" + str(len(columns[c])));\n",
    "        print(columns[c]);\n",
    "\n",
    "def GetMoves ():\n",
    "    for l in lines:\n",
    "        if len(l) > 0 and l[0] == \"m\":\n",
    "            words = l.split();\n",
    "            moves.append([int(words[1]), int(words[3]), int(words[5])]);\n",
    "            # print(words[1] + \" \" + words[3] + \" \" + words[5]);\n",
    "\n",
    "def ApplyMove (move):\n",
    "    for i in range(0,move[0]):\n",
    "        columns[move[2]-1].append(columns[move[1]-1].pop());\n",
    "\n",
    "def GetResult ():\n",
    "    result = \"\";\n",
    "    for c in range(0, len(columns)):\n",
    "        result += columns[c][len(columns[c])-1];\n",
    "    return result;\n",
    "\n",
    "GetColumns();\n",
    "# DebugColumns();\n",
    "\n",
    "GetMoves();\n",
    "\n",
    "for m in moves:\n",
    "    ApplyMove(m);\n",
    "# DebugColumns();\n",
    "\n",
    "letters = GetResult();\n",
    "\n",
    "#Star 1 result = letters\n",
    "print(\"Star 1 Result : \" + letters);"
   ]
  },
  {
   "cell_type": "markdown",
   "id": "796cf71c",
   "metadata": {},
   "source": [
    "Code Star 2\n",
    "\n",
    "Notes :\n",
    "\n",
    "- Même demande, mais cette fois on appliques tous les déplacements d'un coup pour une colonne.\n",
    "- Quand on en déplace plusieurs, on le fait d'un couo (donc on conserve l'ordre des lettres déplacées)"
   ]
  },
  {
   "cell_type": "code",
   "execution_count": 3,
   "id": "e559f2da",
   "metadata": {},
   "outputs": [
    {
     "name": "stdout",
     "output_type": "stream",
     "text": [
      "Star 2 result : TZLTLWRNF\n"
     ]
    }
   ],
   "source": [
    "letters = \"\";\n",
    "columns = [];\n",
    "moves = [];\n",
    "\n",
    "def GetColumns ():\n",
    "    nbLine = 0;\n",
    "    for l in lines:\n",
    "        if l[1] == \"1\":\n",
    "            for i in range(1, len(l), 4):\n",
    "                columns.append([]);\n",
    "            break;\n",
    "        else:\n",
    "            nbLine += 1;\n",
    "    \n",
    "    for l in range(nbLine-1, -1, -1):\n",
    "        for i in range(0, len(columns)):\n",
    "            if lines[l][i * 4 + 1] != \" \":\n",
    "                columns[i].append(lines[l][i * 4 + 1]);\n",
    "\n",
    "def DebugColumns ():\n",
    "    for c in range(0, len(columns)):\n",
    "        print (\"col \" + str(c) + \" length : \" + str(len(columns[c])));\n",
    "        print(columns[c]);\n",
    "\n",
    "def GetMoves ():\n",
    "    for l in lines:\n",
    "        if len(l) > 0 and l[0] == \"m\":\n",
    "            words = l.split();\n",
    "            moves.append([int(words[1]), int(words[3]), int(words[5])]);\n",
    "            # print(words[1] + \" \" + words[3] + \" \" + words[5]);\n",
    "\n",
    "def ApplyMove (move):\n",
    "    moved = columns[move[1]-1][len(columns[move[1]-1]) - move[0]:];\n",
    "    columns[move[1]-1] = columns[move[1]-1][:len(columns[move[1]-1]) - move[0]];\n",
    "    columns[move[2]-1] = columns[move[2]-1] + moved;\n",
    "\n",
    "def GetResult ():\n",
    "    result = \"\";\n",
    "    for c in range(0, len(columns)):\n",
    "        result += columns[c][len(columns[c])-1];\n",
    "    return result;\n",
    "\n",
    "GetColumns();\n",
    "# DebugColumns();\n",
    "\n",
    "GetMoves();\n",
    "\n",
    "for m in moves:\n",
    "    ApplyMove(m);\n",
    "# DebugColumns();\n",
    "\n",
    "letters = GetResult();\n",
    "\n",
    "#Star 2 result = score\n",
    "print(\"Star 2 result : \" + str(letters));"
   ]
  }
 ],
 "metadata": {
  "kernelspec": {
   "display_name": "Python 3.11.0 64-bit",
   "language": "python",
   "name": "python3"
  },
  "language_info": {
   "codemirror_mode": {
    "name": "ipython",
    "version": 3
   },
   "file_extension": ".py",
   "mimetype": "text/x-python",
   "name": "python",
   "nbconvert_exporter": "python",
   "pygments_lexer": "ipython3",
   "version": "3.11.0"
  },
  "vscode": {
   "interpreter": {
    "hash": "a2548ae63d887cc48655b7b4848b4df8032389d83d471ee40ad8da7d77f28a89"
   }
  }
 },
 "nbformat": 4,
 "nbformat_minor": 5
}
