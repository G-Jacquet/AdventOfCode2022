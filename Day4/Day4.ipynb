{
 "cells": [
  {
   "cell_type": "markdown",
   "id": "bf0dec3b-cc57-418a-8485-058c91b296f2",
   "metadata": {},
   "source": [
    "## Advent of Code Jour 4\n",
    "\n",
    "https://adventofcode.com/2022/day/4\n",
    "\n",
    "Input : https://adventofcode.com/2022/day/4/input\n"
   ]
  },
  {
   "cell_type": "markdown",
   "id": "56dd1430",
   "metadata": {},
   "source": [
    "Setup"
   ]
  },
  {
   "cell_type": "code",
   "execution_count": 1,
   "id": "b9409baa-12a6-4140-acc6-743890b90e09",
   "metadata": {},
   "outputs": [],
   "source": [
    "inputPath = \"./input.txt\"\n",
    "input = open(inputPath);\n",
    "lines = input.read().splitlines();\n",
    "input.close();"
   ]
  },
  {
   "cell_type": "markdown",
   "id": "06944d09",
   "metadata": {},
   "source": [
    "Code Star 1\n",
    "\n",
    "Notes :\n",
    "\n",
    "- Les elfes ont des ranges de sections à nettoyer.\n",
    "- Les ranges sont sous la forme x-y où x et y sont des entier positifs\n",
    "- Trouver pour chaque pair d'elfes, combien il y a de lignes où la range d'un elf est complètement contenue dans l'autre.\n",
    "- Chaque ligne contient les deux ranges, séparé par une virgule.\n",
    "\n",
    "* Si le nombre de départ est égale pour les deux, l'un contient forcément l'autre\n",
    "* Sinon, on prend la valeur basse la plus grande, on compare ensuite si sa valeur haute est plus petite ou égale que l'autre valeur haute."
   ]
  },
  {
   "cell_type": "code",
   "execution_count": 8,
   "id": "4ab8d881",
   "metadata": {},
   "outputs": [
    {
     "name": "stdout",
     "output_type": "stream",
     "text": [
      "Star 1 Result : 413\n"
     ]
    }
   ],
   "source": [
    "total = 0;\n",
    "\n",
    "def CheckRange (line):\n",
    "    ranges = line.split(\",\");\n",
    "    range1 = ranges[0].split(\"-\");\n",
    "    range2 = ranges[1].split(\"-\");\n",
    "\n",
    "    # print(range1[0] + \"-\" + range1[1] + \",\" + range2[0] + \"-\" + range2[1]);\n",
    "\n",
    "    if (int(range1[0]) == int(range2[0])):\n",
    "        # print(\"equal\");\n",
    "        return 1;\n",
    "    elif (int(range1[0]) > int(range2[0]) and int(range1[1]) <= int(range2[1])):\n",
    "        # print(\"included 1 is in 2\");\n",
    "        return 1;\n",
    "    elif (int(range1[0]) < int(range2[0]) and int(range1[1]) >= int(range2[1])):\n",
    "        # print(\"included 2 is in 1\");\n",
    "        return 1;\n",
    "    else:\n",
    "        # print(\"nope\");\n",
    "        return 0;\n",
    "\n",
    "for i in lines:\n",
    "    total += CheckRange(i);\n",
    "\n",
    "#Star 1 result = total\n",
    "print(\"Star 1 Result : \" + str(total));"
   ]
  },
  {
   "cell_type": "markdown",
   "id": "796cf71c",
   "metadata": {},
   "source": [
    "Code Star 2\n",
    "\n",
    "Notes :\n",
    "\n",
    "- Compter toutes les pairs qui overlap"
   ]
  },
  {
   "cell_type": "code",
   "execution_count": 11,
   "id": "e559f2da",
   "metadata": {},
   "outputs": [
    {
     "name": "stdout",
     "output_type": "stream",
     "text": [
      "Star 2 result : 806\n"
     ]
    }
   ],
   "source": [
    "total = 0;\n",
    "\n",
    "def CheckRange (line):\n",
    "    ranges = line.split(\",\");\n",
    "    range1 = ranges[0].split(\"-\");\n",
    "    range2 = ranges[1].split(\"-\");\n",
    "\n",
    "    # print(range1[0] + \"-\" + range1[1] + \",\" + range2[0] + \"-\" + range2[1]);\n",
    "\n",
    "    if (int(range1[1]) >= int(range2[0]) and int(range1[1]) <= int(range2[1])):\n",
    "        # print(\"Range 1 trigger\");\n",
    "        return 1;\n",
    "    elif (int(range2[1]) >= int(range1[0]) and int(range2[1]) <= int(range1[1])):\n",
    "        # print(\"Range 2 trigger\");\n",
    "        return 1;\n",
    "    else:\n",
    "        # print(\"nope\");\n",
    "        return 0;\n",
    "\n",
    "for i in lines:\n",
    "    total += CheckRange(i);\n",
    "\n",
    "#Star 2 result = score\n",
    "print(\"Star 2 result : \" + str(total));"
   ]
  }
 ],
 "metadata": {
  "kernelspec": {
   "display_name": "Python 3.11.0 64-bit",
   "language": "python",
   "name": "python3"
  },
  "language_info": {
   "codemirror_mode": {
    "name": "ipython",
    "version": 3
   },
   "file_extension": ".py",
   "mimetype": "text/x-python",
   "name": "python",
   "nbconvert_exporter": "python",
   "pygments_lexer": "ipython3",
   "version": "3.11.0"
  },
  "vscode": {
   "interpreter": {
    "hash": "a2548ae63d887cc48655b7b4848b4df8032389d83d471ee40ad8da7d77f28a89"
   }
  }
 },
 "nbformat": 4,
 "nbformat_minor": 5
}
