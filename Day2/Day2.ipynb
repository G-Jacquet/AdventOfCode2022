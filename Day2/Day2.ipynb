{
 "cells": [
  {
   "cell_type": "markdown",
   "id": "bf0dec3b-cc57-418a-8485-058c91b296f2",
   "metadata": {},
   "source": [
    "## Advent of Code Jour 2\n",
    "\n",
    "https://adventofcode.com/2022/day/2\n",
    "\n",
    "Input : https://adventofcode.com/2022/day/2/input\n"
   ]
  },
  {
   "cell_type": "markdown",
   "id": "56dd1430",
   "metadata": {},
   "source": [
    "Setup"
   ]
  },
  {
   "cell_type": "code",
   "execution_count": 1,
   "id": "b9409baa-12a6-4140-acc6-743890b90e09",
   "metadata": {},
   "outputs": [],
   "source": [
    "inputPath = \"./input.txt\"\n",
    "input = open(inputPath);\n",
    "lines = input.read().splitlines();\n",
    "input.close();"
   ]
  },
  {
   "cell_type": "markdown",
   "id": "06944d09",
   "metadata": {},
   "source": [
    "Code Star 1\n",
    "\n",
    "Notes :\n",
    "\n",
    "* A = X = Rock = 1\n",
    "* B = Y = Paper = 2\n",
    "* C = Z = Scissors = 3\n",
    "\n",
    "Test du score avec premier - second.\n",
    "* Du point de vue du premier\n",
    "* 0 = égalité\n",
    "* 1 = victoire (exemple Paper - Rock -> 2 - 1 -> 1, le premier à gagné)\n",
    "* -1 = défaite\n",
    "* -2 = victoire\n",
    "* 2 = défaite\n",
    "\n",
    "On peut décaler l'indice et faire % 3 pour obtenir 2 = victoire, 1 = égalité, 0 = défaite"
   ]
  },
  {
   "cell_type": "code",
   "execution_count": 2,
   "id": "4ab8d881",
   "metadata": {},
   "outputs": [
    {
     "name": "stdout",
     "output_type": "stream",
     "text": [
      "Star 1 Result : 12276\n"
     ]
    }
   ],
   "source": [
    "def CheckWin (ourHand, oppHand):\n",
    "    return (ourHand - oppHand + 1) % 3;\n",
    "\n",
    "def AddScore (ourHand, oppHand):\n",
    "    return ourHand + CheckWin(ourHand, oppHand) * 3;\n",
    "\n",
    "def ReadHand (text):\n",
    "    if (text == \"A\" or text == \"X\"):\n",
    "        return 1;\n",
    "    elif (text == \"B\" or text == \"Y\"):\n",
    "        return 2;\n",
    "    elif (text == \"C\" or text == \"Z\"):\n",
    "        return 3;\n",
    "\n",
    "ourHands = [];\n",
    "oppHands = [];\n",
    "score = 0;\n",
    "\n",
    "for i in lines:\n",
    "    symbols = i.split();\n",
    "    oppHands.append(ReadHand(symbols[0]));\n",
    "    ourHands.append(ReadHand(symbols[1]));\n",
    "\n",
    "size = len(ourHands);\n",
    "for i in range(0,size):\n",
    "    score += AddScore(ourHands[i], oppHands[i]);\n",
    "\n",
    "\n",
    "#Star 1 result = score\n",
    "print(\"Star 1 Result : \" + str(score));"
   ]
  },
  {
   "cell_type": "markdown",
   "id": "796cf71c",
   "metadata": {},
   "source": [
    "Code Star 2\n",
    "\n",
    "Notes :\n",
    "\n",
    "- A = Opp Rock = 1\n",
    "- B = Opp Paper = 2\n",
    "- C = Opp Scissors = 3\n",
    "\n",
    "\n",
    "* X = Défaite\n",
    "* Y = Égalité\n",
    "* Z = Victoire\n",
    "\n",
    "- Pour Gagner on joue un au dessus de l'adversaire, oppHand % 3 + 1 fonctionne, le modulo ramène les ciseaux à 0 avant d'augmenter de 1.\n",
    "- Pour Perdre on joue un en dessous de l'adversaire, (oppHand - 2) % 3 + 1 fonctionne.\n",
    "- Pour faire égaliter on joue comme l'adversaire, on peut faire (oppHand - 1) % 3 + 1.\n",
    "\n",
    "Avec ça on peut généraliser :\n",
    "\n",
    "* X = -2\n",
    "* Y = -1\n",
    "* Z = 0"
   ]
  },
  {
   "cell_type": "code",
   "execution_count": 17,
   "id": "e559f2da",
   "metadata": {},
   "outputs": [
    {
     "name": "stdout",
     "output_type": "stream",
     "text": [
      "Star 2 result : 9975\n"
     ]
    }
   ],
   "source": [
    "def AddScore (winStatus, oppHand):\n",
    "    ourHand = (oppHand + winStatus) % 3 + 1;\n",
    "    return ourHand + (winStatus + 2) * 3;\n",
    "\n",
    "def ReadHandOpp (text):\n",
    "    if (text == \"A\"):\n",
    "        return 1;\n",
    "    elif (text == \"B\"):\n",
    "        return 2;\n",
    "    elif (text == \"C\"):\n",
    "        return 3;\n",
    "\n",
    "def ReadHandOurs (text):\n",
    "    if (text == \"X\"):\n",
    "        return -2;\n",
    "    elif (text == \"Y\"):\n",
    "        return -1;\n",
    "    elif (text == \"Z\"):\n",
    "        return 0;\n",
    "\n",
    "ourHands = [];\n",
    "oppHands = [];\n",
    "score = 0;\n",
    "\n",
    "for i in lines:\n",
    "    symbols = i.split();\n",
    "    oppHands.append(ReadHandOpp(symbols[0]));\n",
    "    ourHands.append(ReadHandOurs(symbols[1]));\n",
    "\n",
    "size = len(ourHands);\n",
    "for i in range(0,size):\n",
    "    score += AddScore(ourHands[i], oppHands[i]);\n",
    "\n",
    "#Star 2 result = score\n",
    "print(\"Star 2 result : \" + str(score));"
   ]
  }
 ],
 "metadata": {
  "kernelspec": {
   "display_name": "Python 3.11.0 64-bit",
   "language": "python",
   "name": "python3"
  },
  "language_info": {
   "codemirror_mode": {
    "name": "ipython",
    "version": 3
   },
   "file_extension": ".py",
   "mimetype": "text/x-python",
   "name": "python",
   "nbconvert_exporter": "python",
   "pygments_lexer": "ipython3",
   "version": "3.11.0"
  },
  "vscode": {
   "interpreter": {
    "hash": "a2548ae63d887cc48655b7b4848b4df8032389d83d471ee40ad8da7d77f28a89"
   }
  }
 },
 "nbformat": 4,
 "nbformat_minor": 5
}
