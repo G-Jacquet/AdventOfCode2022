{
 "cells": [
  {
   "cell_type": "markdown",
   "id": "bf0dec3b-cc57-418a-8485-058c91b296f2",
   "metadata": {},
   "source": [
    "## Advent of Code Jour 1\n",
    "\n",
    "https://adventofcode.com/2022/day/1\n",
    "\n",
    "Input : https://adventofcode.com/2022/day/1/input\n"
   ]
  },
  {
   "cell_type": "markdown",
   "id": "56dd1430",
   "metadata": {},
   "source": [
    "Setup"
   ]
  },
  {
   "cell_type": "code",
   "execution_count": 1,
   "id": "b9409baa-12a6-4140-acc6-743890b90e09",
   "metadata": {},
   "outputs": [],
   "source": [
    "inputPath = \"./input.txt\"\n",
    "input = open(inputPath);\n",
    "lines = input.read().splitlines();\n",
    "input.close();"
   ]
  },
  {
   "cell_type": "markdown",
   "id": "06944d09",
   "metadata": {},
   "source": [
    "Code Star 1"
   ]
  },
  {
   "cell_type": "code",
   "execution_count": 2,
   "id": "4ab8d881",
   "metadata": {},
   "outputs": [
    {
     "name": "stdout",
     "output_type": "stream",
     "text": [
      "Star 1 Result : 71124\n"
     ]
    }
   ],
   "source": [
    "cal = 0;\n",
    "calMax = 0;\n",
    "\n",
    "for i in lines:\n",
    "    if str.isnumeric(i):\n",
    "        cal += int(i)\n",
    "    else:\n",
    "        if cal > calMax:\n",
    "            calMax = cal;\n",
    "        cal = 0;\n",
    "\n",
    "if cal > calMax:\n",
    "    calMax = cal;\n",
    "\n",
    "\n",
    "#Star 1 result = calMax\n",
    "print(\"Star 1 Result : \" + str(calMax));"
   ]
  },
  {
   "cell_type": "markdown",
   "id": "796cf71c",
   "metadata": {},
   "source": [
    "Code Star 2"
   ]
  },
  {
   "cell_type": "code",
   "execution_count": 3,
   "id": "e559f2da",
   "metadata": {},
   "outputs": [
    {
     "name": "stdout",
     "output_type": "stream",
     "text": [
      "CalMax = 71124 -- CalSecond = 67422 -- CalThird = 66093\n",
      "Star 2 result : 204639\n"
     ]
    }
   ],
   "source": [
    "cal = 0;\n",
    "cals = [0,0,0];\n",
    "\n",
    "def CheckCal (cal, cals):\n",
    "    if cal > cals[0]:\n",
    "        cals[2] = cals[1];\n",
    "        cals[1] = cals[0];\n",
    "        cals[0] = cal;\n",
    "    elif cal > cals[1]:\n",
    "        cals[2] = cals[1];\n",
    "        cals[1] = cal;\n",
    "    elif cal > cals[2]:\n",
    "        cals[2] = cal;\n",
    "    return cals;\n",
    "\n",
    "for i in lines:\n",
    "    if str.isnumeric(i):\n",
    "        cal += int(i)\n",
    "    else:\n",
    "        cals = CheckCal(cal, cals);\n",
    "        cal = 0;\n",
    "\n",
    "cals = CheckCal(cal, cals);\n",
    "print(\"CalMax = \" + str(cals[0]) + \" -- CalSecond = \" + str(cals[1])  + \" -- CalThird = \" + str(cals[2]));\n",
    "\n",
    "#Star 2 result = calMax + calSecond + calThird\n",
    "print(\"Star 2 result : \" + str(cals[0] + cals[1] + cals[2]));"
   ]
  }
 ],
 "metadata": {
  "kernelspec": {
   "display_name": "Python 3.11.0 64-bit",
   "language": "python",
   "name": "python3"
  },
  "language_info": {
   "codemirror_mode": {
    "name": "ipython",
    "version": 3
   },
   "file_extension": ".py",
   "mimetype": "text/x-python",
   "name": "python",
   "nbconvert_exporter": "python",
   "pygments_lexer": "ipython3",
   "version": "3.11.0"
  },
  "vscode": {
   "interpreter": {
    "hash": "a2548ae63d887cc48655b7b4848b4df8032389d83d471ee40ad8da7d77f28a89"
   }
  }
 },
 "nbformat": 4,
 "nbformat_minor": 5
}
