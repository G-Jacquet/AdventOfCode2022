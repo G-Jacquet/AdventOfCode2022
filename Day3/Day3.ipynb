{
 "cells": [
  {
   "cell_type": "markdown",
   "id": "bf0dec3b-cc57-418a-8485-058c91b296f2",
   "metadata": {},
   "source": [
    "## Advent of Code Jour 3\n",
    "\n",
    "https://adventofcode.com/2022/day/3\n",
    "\n",
    "Input : https://adventofcode.com/2022/day/3/input\n"
   ]
  },
  {
   "cell_type": "markdown",
   "id": "56dd1430",
   "metadata": {},
   "source": [
    "Setup"
   ]
  },
  {
   "cell_type": "code",
   "execution_count": 2,
   "id": "b9409baa-12a6-4140-acc6-743890b90e09",
   "metadata": {},
   "outputs": [],
   "source": [
    "inputPath = \"./input.txt\"\n",
    "input = open(inputPath);\n",
    "lines = input.read().splitlines();\n",
    "input.close();"
   ]
  },
  {
   "cell_type": "markdown",
   "id": "06944d09",
   "metadata": {},
   "source": [
    "Code Star 1\n",
    "\n",
    "Notes :\n",
    "\n",
    "Trouver dans les sacs quel caractère est présent dans les deux sous compartiments (dans la première et deuxième sous chaine, split en deux de taille exacte).\n",
    "\n",
    "- Split les chaines en deux.\n",
    "- Trouver les caractère en commun.\n",
    "- Noter leur valeur (a-z = 1-26, A-Z = 27-52).\n",
    "- Faire la somme de tous."
   ]
  },
  {
   "cell_type": "code",
   "execution_count": 25,
   "id": "4ab8d881",
   "metadata": {},
   "outputs": [
    {
     "name": "stdout",
     "output_type": "stream",
     "text": [
      "Star 1 Result : 7742\n"
     ]
    }
   ],
   "source": [
    "def CheckLine (text):\n",
    "    strLen = int(len(text) / 2);\n",
    "    line1 = text[:strLen];\n",
    "    line2 = text[strLen:];\n",
    "    #print(\"Line 1 : \" + line1 + \" --- Line 2 : \" + line2);\n",
    "    for i in line1:\n",
    "        if line2.find(i) >= 0:\n",
    "            #print(\"Char : \" + i + \" --- Ord : \" + str(ConvertVal(i)));\n",
    "            return(i);\n",
    "\n",
    "def ConvertVal (char):\n",
    "    ordChar = ord(char);\n",
    "    if (ordChar > 96):\n",
    "        ordChar -= 96;\n",
    "    elif (ordChar > 64):\n",
    "        ordChar -= 38;\n",
    "    return ordChar;\n",
    "\n",
    "totalVal = 0;\n",
    "for i in lines:\n",
    "   totalVal += ConvertVal(CheckLine(i));\n",
    "\n",
    "#Star 1 result = totalVal\n",
    "print(\"Star 1 Result : \" + str(totalVal));"
   ]
  },
  {
   "cell_type": "markdown",
   "id": "796cf71c",
   "metadata": {},
   "source": [
    "Code Star 2\n",
    "\n",
    "Notes :\n",
    "\n",
    "Trouver les badges pour chaque groupe d'elfes et calculer la valeur total des badges.\n",
    "\n",
    "- Un groupe = trois lignes de textes.\n",
    "- Un badge = le seul caractère en commun sur les lignes du groupe."
   ]
  },
  {
   "cell_type": "code",
   "execution_count": 28,
   "id": "e559f2da",
   "metadata": {},
   "outputs": [
    {
     "name": "stdout",
     "output_type": "stream",
     "text": [
      "Star 2 result : 2276\n"
     ]
    }
   ],
   "source": [
    "def CheckLine (text1, text2, text3):\n",
    "    #print(\"Line 1 : \" + line1 + \" --- Line 2 : \" + line2);\n",
    "    for i in text1:\n",
    "        if text2.find(i) >= 0 and text3.find(i) >= 0:\n",
    "            #print(\"Char : \" + i + \" --- Ord : \" + str(ConvertVal(i)));\n",
    "            return(i);\n",
    "\n",
    "def ConvertVal (char):\n",
    "    ordChar = ord(char);\n",
    "    if (ordChar > 96):\n",
    "        ordChar -= 96;\n",
    "    elif (ordChar > 64):\n",
    "        ordChar -= 38;\n",
    "    return ordChar;\n",
    "\n",
    "totalVal = 0;\n",
    "for i in range(0,len(lines),3):\n",
    "   totalVal += ConvertVal(CheckLine(lines[i], lines[i+1], lines[i+2]));\n",
    "\n",
    "#Star 2 result = score\n",
    "print(\"Star 2 result : \" + str(totalVal));"
   ]
  }
 ],
 "metadata": {
  "kernelspec": {
   "display_name": "Python 3.11.0 64-bit",
   "language": "python",
   "name": "python3"
  },
  "language_info": {
   "codemirror_mode": {
    "name": "ipython",
    "version": 3
   },
   "file_extension": ".py",
   "mimetype": "text/x-python",
   "name": "python",
   "nbconvert_exporter": "python",
   "pygments_lexer": "ipython3",
   "version": "3.11.0"
  },
  "vscode": {
   "interpreter": {
    "hash": "a2548ae63d887cc48655b7b4848b4df8032389d83d471ee40ad8da7d77f28a89"
   }
  }
 },
 "nbformat": 4,
 "nbformat_minor": 5
}
